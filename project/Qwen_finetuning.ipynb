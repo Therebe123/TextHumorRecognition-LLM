{
 "cells": [
  {
   "cell_type": "markdown",
   "metadata": {},
   "source": [
    "# 1. 前期准备"
   ]
  },
  {
   "cell_type": "code",
   "execution_count": 4,
   "metadata": {},
   "outputs": [],
   "source": [
    "from datasets import Dataset\n",
    "import seaborn as sns\n",
    "import matplotlib.pyplot as plt\n",
    "import pandas as pd\n",
    "from transformers import (\n",
    "    AutoTokenizer,\n",
    "    AutoModelForCausalLM,\n",
    "    DataCollatorForSeq2Seq,\n",
    "    TrainingArguments,\n",
    "    Trainer,\n",
    "    GenerationConfig,\n",
    ")"
   ]
  },
  {
   "cell_type": "markdown",
   "metadata": {},
   "source": [
    "# 2. 导入数据"
   ]
  },
  {
   "cell_type": "code",
   "execution_count": 2,
   "metadata": {},
   "outputs": [],
   "source": [
    "from sklearn.model_selection import train_test_split\n",
    "\n",
    "data = pd.read_csv(\"./data/train_dataset.csv\")\n",
    "label = data[\"label\"]\n",
    "data = data[[\"joke\", \"pinyin\", \"标签\"]]\n",
    "data_train, data_val, label_train, label_val = train_test_split(\n",
    "    data, label, test_size=0.1, random_state=648\n",
    ")\n",
    "data_train = data_train.reset_index(drop=True)\n",
    "data_val = data_val.reset_index(drop=True)"
   ]
  },
  {
   "cell_type": "code",
   "execution_count": 3,
   "metadata": {},
   "outputs": [
    {
     "data": {
      "text/plain": [
       "{'joke': '话说一日阿南当飞行员的好朋友阿平跟他借车阿南借出之后一直心惊胆颤的小明看到就问他：你担心啥啊？你担心他出事？ 阿南答道：不！我担心我的车子！ 你知道他的职业吗？飞行员耶！ 我怕他超车的时候，不从左超，也不从右超，偏偏直线加速，然后拉起方向盘。',\n",
       " 'pinyin': 'hua4 shuo1 yi1 ri4 a1 nan2 dang1 fei1 xing2 yuan2 de5 hao3 peng2 you3 a1 ping2 gen1 ta1 jie4 che1 a1 nan2 jie4 chu1 zhi1 hou4 yi1 zhi2 xin1 liang2 dan3 zhan4 de5 xiao3 ming2 kan4 dao4 jiu4 wen4 ta1 ： ni3 dan4 xin1 sha4 a5 ？ ni3 dan4 xin1 ta1 chu1 shi4 ？   a1 nan2 da2 dao4 ： bu4 ！ wo3 dan4 xin1 wo3 de5 che1 zi3 ！   ni3 zhi1 dao4 ta1 de5 zhi2 ye4 ma5 ？ fei1 xing2 yuan2 ye2 ！   wo3 pa4 ta1 chao1 che1 de5 shi2 hou4 ， bu4 cong2 zuo3 chao1 ， ye3 bu4 cong2 you4 chao1 ， pian1 pian1 zhi2 xian4 jia1 su4 ， ran2 hou4 la1 qi3 fang1 xiang4 pan2 。',\n",
       " '标签': '一般幽默'}"
      ]
     },
     "execution_count": 3,
     "metadata": {},
     "output_type": "execute_result"
    }
   ],
   "source": [
    "data_train = Dataset.from_pandas(data_train)\n",
    "data_train[0]"
   ]
  },
  {
   "cell_type": "code",
   "execution_count": 4,
   "metadata": {},
   "outputs": [
    {
     "data": {
      "text/plain": [
       "{'joke': '我们班有一个女生和一个特别老实的男生开玩笑说：“你看，我的皮肤就像剥了壳的鸡蛋。” 那男生沉默半晌，特别认真的说出一句话：“是茶叶蛋吧！”',\n",
       " 'pinyin': 'wo3 men5 ban1 you3 yi1 ge4 nv3 sheng1 he2 yi1 ge4 te4 bie2 lao3 shi2 de5 nan2 sheng1 kai1 wan2 xiao4 shuo1 ： “ ni3 kan4 ， wo3 de5 pi2 fu1 jiu4 xiang4 bo1 le5 ke2 de5 ji1 dan4 。 ”   na4 nan2 sheng1 chen2 mo4 ban4 shang3 ， te4 bie2 ren4 zhen1 de5 shuo1 chu1 yi1 ju4 hua4 ： “ shi4 cha2 ye4 dan4 ba5 ！ ”',\n",
       " '标签': '强幽默'}"
      ]
     },
     "execution_count": 4,
     "metadata": {},
     "output_type": "execute_result"
    }
   ],
   "source": [
    "data_val = Dataset.from_pandas(data_val)\n",
    "data_val[0]"
   ]
  },
  {
   "cell_type": "code",
   "execution_count": 5,
   "metadata": {},
   "outputs": [
    {
     "data": {
      "text/plain": [
       "{'joke': '车上遇见一对双胞胎姑娘。穿的那个清凉啊，笑的那个甜啊……忍不住要去搭讪。 为不表现的轻浮和唐突，在心中默念了好几遍准备好的台词才走凑上去对她倆说：你们谁想做我小姨子？',\n",
       " 'pinyin': 'che1 shang4 yu4 jian4 yi1 dui4 shuang1 bao1 tai1 gu1 niang2 。 chuan1 de5 na4 ge4 qing1 liang2 a5 ， xiao4 de5 na4 ge4 tian2 a5 … … ren3 bu4 zhu4 yao4 qu4 da1 shan4 。   wei4 bu4 biao3 xian4 de5 qing1 fu2 he2 tang2 tu1 ， zai4 xin1 zhong1 mo4 nian4 le5 hao3 ji1 bian4 zhun3 bei4 hao3 de5 tai2 ci2 cai2 zou3 cou4 shang4 qu4 dui4 ta1 lia3 shuo1 ： ni3 men5 shui2 xiang3 zuo4 wo3 xiao3 yi2 zi3 ？',\n",
       " '标签': '强幽默'}"
      ]
     },
     "execution_count": 5,
     "metadata": {},
     "output_type": "execute_result"
    }
   ],
   "source": [
    "data_test = pd.read_csv(\"./data/test_dataset.csv\")\n",
    "label_test = data_test[\"label\"]\n",
    "data_test = data_test[[\"joke\", \"pinyin\", \"标签\"]]\n",
    "data_test = Dataset.from_pandas(data_test)\n",
    "data_test[0]"
   ]
  },
  {
   "cell_type": "markdown",
   "metadata": {},
   "source": [
    "# 导入分词器并处理数据"
   ]
  },
  {
   "cell_type": "code",
   "execution_count": 6,
   "metadata": {},
   "outputs": [
    {
     "name": "stderr",
     "output_type": "stream",
     "text": [
      "Special tokens have been added in the vocabulary, make sure the associated word embeddings are fine-tuned or trained.\n"
     ]
    }
   ],
   "source": [
    "tokenizer = AutoTokenizer.from_pretrained(\n",
    "    \"../autodl-tmp/Qwen1___5-7B-Chat-GPTQ-Int4\", trust_remote_code=True\n",
    ")"
   ]
  },
  {
   "cell_type": "markdown",
   "metadata": {},
   "source": [
    "接下来编写一个输入处理函数，对输入进行分词、编码和长度限制处理。"
   ]
  },
  {
   "cell_type": "code",
   "execution_count": 7,
   "metadata": {},
   "outputs": [],
   "source": [
    "def process_func(data_input):\n",
    "    \"\"\"对输入进行分词、编码和长度限制处理，以便后续用于模型的训练或推理\n",
    "\n",
    "    Args:\n",
    "        data_input (dataframe): 需要处理的数据\n",
    "\n",
    "    Returns:\n",
    "        _type_: 以字典形式返回处理后的数据\n",
    "    \"\"\"\n",
    "    # 设置最大长度，用于控制输入的长度\n",
    "    MAX_LENGTH = 400\n",
    "    # 初始化用于存储处理后数据的列表\n",
    "    input_ids, attention_mask, labels = [], [], []\n",
    "\n",
    "    # 使用分词器对指令和输出部分进行处理，将其转换为input_ids和attention_mask\n",
    "    system_content = \"你是一位语言学家，请根据以下文本中的幽默，将其准确分类为弱幽默、一般幽默或强幽默。输出只能是'弱幽默','一般幽默','强幽默'三者之一。\"\n",
    "    instruction = tokenizer(\n",
    "        f\"<|im_start|>system\\n{system_content}<|im_end|>\\n<|im_start|>user\\n{data_input['joke']}<|im_end|>\\n<|im_start|>assistant\\n\",\n",
    "        add_special_tokens=False,\n",
    "    )\n",
    "    response = tokenizer(f\"{data_input['标签']}\", add_special_tokens=False)\n",
    "\n",
    "    # 将指令部分和输出部分合并，并加入一些结尾标志\n",
    "    input_ids = (\n",
    "        instruction[\"input_ids\"] + response[\"input_ids\"] + [tokenizer.pad_token_id]\n",
    "    )\n",
    "    attention_mask = instruction[\"attention_mask\"] + response[\"attention_mask\"] + [1]\n",
    "    # 对labels进行设置，指令部分用-100进行填充，其余部分使用输出部分的input_ids\n",
    "    labels = (\n",
    "        [-100] * len(instruction[\"input_ids\"])\n",
    "        + response[\"input_ids\"]\n",
    "        + [tokenizer.pad_token_id]\n",
    "    )\n",
    "\n",
    "    # 如果输入长度超过最大长度限制，则进行截断\n",
    "    if len(input_ids) > MAX_LENGTH:\n",
    "        input_ids = input_ids[:MAX_LENGTH]\n",
    "        attention_mask = attention_mask[:MAX_LENGTH]\n",
    "        labels = labels[:MAX_LENGTH]\n",
    "    return {\"input_ids\": input_ids, \"attention_mask\": attention_mask, \"labels\": labels}"
   ]
  },
  {
   "cell_type": "code",
   "execution_count": 8,
   "metadata": {},
   "outputs": [
    {
     "data": {
      "application/vnd.jupyter.widget-view+json": {
       "model_id": "d3bb03dbc51247e68e82f85a5f8f30d2",
       "version_major": 2,
       "version_minor": 0
      },
      "text/plain": [
       "Map:   0%|          | 0/11268 [00:00<?, ? examples/s]"
      ]
     },
     "metadata": {},
     "output_type": "display_data"
    },
    {
     "data": {
      "text/plain": [
       "Dataset({\n",
       "    features: ['input_ids', 'attention_mask', 'labels'],\n",
       "    num_rows: 11268\n",
       "})"
      ]
     },
     "execution_count": 8,
     "metadata": {},
     "output_type": "execute_result"
    }
   ],
   "source": [
    "dataset_train = data_train.map(process_func, remove_columns=data_train.column_names)\n",
    "dataset_train"
   ]
  },
  {
   "cell_type": "code",
   "execution_count": 9,
   "metadata": {},
   "outputs": [
    {
     "data": {
      "application/vnd.jupyter.widget-view+json": {
       "model_id": "5e59b358d9f244fcbe1da3b714d43989",
       "version_major": 2,
       "version_minor": 0
      },
      "text/plain": [
       "Map:   0%|          | 0/1253 [00:00<?, ? examples/s]"
      ]
     },
     "metadata": {},
     "output_type": "display_data"
    },
    {
     "data": {
      "text/plain": [
       "Dataset({\n",
       "    features: ['input_ids', 'attention_mask', 'labels'],\n",
       "    num_rows: 1253\n",
       "})"
      ]
     },
     "execution_count": 9,
     "metadata": {},
     "output_type": "execute_result"
    }
   ],
   "source": [
    "dataset_val = data_val.map(process_func, remove_columns=data_val.column_names)\n",
    "dataset_val"
   ]
  },
  {
   "cell_type": "code",
   "execution_count": 10,
   "metadata": {},
   "outputs": [
    {
     "data": {
      "text/plain": [
       "\"<|im_start|>system\\n你是一位语言学家，请根据以下文本中的幽默，将其准确分类为弱幽默、一般幽默或强幽默。输出只能是'弱幽默','一般幽默','强幽默'三者之一。<|im_end|>\\n<|im_start|>user\\n话说一日阿南当飞行员的好朋友阿平跟他借车阿南借出之后一直心惊胆颤的小明看到就问他：你担心啥啊？你担心他出事？ 阿南答道：不！我担心我的车子！ 你知道他的职业吗？飞行员耶！ 我怕他超车的时候，不从左超，也不从右超，偏偏直线加速，然后拉起方向盘。<|im_end|>\\n<|im_start|>assistant\\n一般幽默<|endoftext|>\""
      ]
     },
     "execution_count": 10,
     "metadata": {},
     "output_type": "execute_result"
    }
   ],
   "source": [
    "tokenizer.decode(dataset_train[0][\"input_ids\"])"
   ]
  },
  {
   "cell_type": "markdown",
   "metadata": {},
   "source": [
    "# 4. 导入模型"
   ]
  },
  {
   "cell_type": "code",
   "execution_count": 11,
   "metadata": {},
   "outputs": [
    {
     "name": "stderr",
     "output_type": "stream",
     "text": [
      "CUDA extension not installed.\n",
      "CUDA extension not installed.\n",
      "/root/miniconda3/lib/python3.10/site-packages/transformers/modeling_utils.py:4193: FutureWarning: `_is_quantized_training_enabled` is going to be deprecated in transformers 4.39.0. Please use `model.hf_quantizer.is_trainable` instead\n",
      "  warnings.warn(\n"
     ]
    },
    {
     "data": {
      "application/vnd.jupyter.widget-view+json": {
       "model_id": "b9f7281caa90414c99cecbaba0edbbf0",
       "version_major": 2,
       "version_minor": 0
      },
      "text/plain": [
       "Loading checkpoint shards:   0%|          | 0/2 [00:00<?, ?it/s]"
      ]
     },
     "metadata": {},
     "output_type": "display_data"
    },
    {
     "data": {
      "text/plain": [
       "Qwen2ForCausalLM(\n",
       "  (model): Qwen2Model(\n",
       "    (embed_tokens): Embedding(151936, 4096)\n",
       "    (layers): ModuleList(\n",
       "      (0-31): 32 x Qwen2DecoderLayer(\n",
       "        (self_attn): Qwen2SdpaAttention(\n",
       "          (rotary_emb): Qwen2RotaryEmbedding()\n",
       "          (k_proj): QuantLinear()\n",
       "          (o_proj): QuantLinear()\n",
       "          (q_proj): QuantLinear()\n",
       "          (v_proj): QuantLinear()\n",
       "        )\n",
       "        (mlp): Qwen2MLP(\n",
       "          (act_fn): SiLU()\n",
       "          (down_proj): QuantLinear()\n",
       "          (gate_proj): QuantLinear()\n",
       "          (up_proj): QuantLinear()\n",
       "        )\n",
       "        (input_layernorm): Qwen2RMSNorm()\n",
       "        (post_attention_layernorm): Qwen2RMSNorm()\n",
       "      )\n",
       "    )\n",
       "    (norm): Qwen2RMSNorm()\n",
       "  )\n",
       "  (lm_head): Linear(in_features=4096, out_features=151936, bias=False)\n",
       ")"
      ]
     },
     "execution_count": 11,
     "metadata": {},
     "output_type": "execute_result"
    }
   ],
   "source": [
    "import torch\n",
    "\n",
    "model = AutoModelForCausalLM.from_pretrained(\n",
    "    \"../autodl-tmp/Qwen1___5-7B-Chat-GPTQ-Int4\", device_map=\"auto\"\n",
    ")\n",
    "model"
   ]
  },
  {
   "cell_type": "markdown",
   "metadata": {},
   "source": [
    "以下是一些模型信息"
   ]
  },
  {
   "cell_type": "code",
   "execution_count": 12,
   "metadata": {},
   "outputs": [
    {
     "data": {
      "text/plain": [
       "True"
      ]
     },
     "execution_count": 12,
     "metadata": {},
     "output_type": "execute_result"
    }
   ],
   "source": [
    "model.hf_quantizer.is_trainable"
   ]
  },
  {
   "cell_type": "code",
   "execution_count": 13,
   "metadata": {},
   "outputs": [
    {
     "data": {
      "text/plain": [
       "torch.float16"
      ]
     },
     "execution_count": 13,
     "metadata": {},
     "output_type": "execute_result"
    }
   ],
   "source": [
    "model.dtype"
   ]
  },
  {
   "cell_type": "code",
   "execution_count": 14,
   "metadata": {},
   "outputs": [],
   "source": [
    "# 开启梯度检查点时，要执行该方法\n",
    "model.enable_input_require_grads()"
   ]
  },
  {
   "cell_type": "markdown",
   "metadata": {},
   "source": [
    "# 5. 设置LORA"
   ]
  },
  {
   "cell_type": "code",
   "execution_count": 12,
   "metadata": {},
   "outputs": [
    {
     "data": {
      "text/plain": [
       "LoraConfig(peft_type=<PeftType.LORA: 'LORA'>, auto_mapping=None, base_model_name_or_path=None, revision=None, task_type=<TaskType.CAUSAL_LM: 'CAUSAL_LM'>, inference_mode=False, r=8, target_modules={'up_proj', 'gate_proj', 'down_proj', 'v_proj', 'k_proj', 'o_proj', 'q_proj'}, lora_alpha=32, lora_dropout=0.1, fan_in_fan_out=False, bias='none', use_rslora=False, modules_to_save=None, init_lora_weights=True, layers_to_transform=None, layers_pattern=None, rank_pattern={}, alpha_pattern={}, megatron_config=None, megatron_core='megatron.core', loftq_config={})"
      ]
     },
     "execution_count": 12,
     "metadata": {},
     "output_type": "execute_result"
    }
   ],
   "source": [
    "from peft import LoraConfig, TaskType, get_peft_model\n",
    "\n",
    "config = LoraConfig(\n",
    "    task_type=TaskType.CAUSAL_LM,\n",
    "    target_modules=[\n",
    "        \"q_proj\",\n",
    "        \"k_proj\",\n",
    "        \"v_proj\",\n",
    "        \"o_proj\",\n",
    "        \"gate_proj\",\n",
    "        \"up_proj\",\n",
    "        \"down_proj\",\n",
    "    ],\n",
    "    inference_mode=False,  # 训练模式\n",
    "    r=8,  # Lora 秩\n",
    "    lora_alpha=32,  # Lora alaph\n",
    "    lora_dropout=0.1,  # Dropout 比例\n",
    ")\n",
    "config"
   ]
  },
  {
   "cell_type": "code",
   "execution_count": 16,
   "metadata": {},
   "outputs": [
    {
     "name": "stdout",
     "output_type": "stream",
     "text": [
      "trainable params: 19,988,480 || all params: 1,264,914,432 || trainable%: 1.580223886638365\n"
     ]
    }
   ],
   "source": [
    "model = get_peft_model(model, config)\n",
    "model.print_trainable_parameters()"
   ]
  },
  {
   "cell_type": "markdown",
   "metadata": {},
   "source": [
    "# 5. 训练模型"
   ]
  },
  {
   "cell_type": "code",
   "execution_count": 17,
   "metadata": {},
   "outputs": [],
   "source": [
    "args = TrainingArguments(\n",
    "    output_dir=\"./output/Qwen\",\n",
    "    logging_dir=\"./log/Qwen\",\n",
    "    overwrite_output_dir=True,\n",
    "    per_device_train_batch_size=16,\n",
    "    per_device_eval_batch_size=16,\n",
    "    gradient_accumulation_steps=4,\n",
    "    logging_steps=50,\n",
    "    num_train_epochs=10,\n",
    "    save_steps=200,\n",
    "    learning_rate=1e-4,\n",
    "    save_on_each_node=True,\n",
    "    gradient_checkpointing=True,\n",
    "    evaluation_strategy=\"steps\",\n",
    ")"
   ]
  },
  {
   "cell_type": "code",
   "execution_count": 18,
   "metadata": {},
   "outputs": [
    {
     "name": "stderr",
     "output_type": "stream",
     "text": [
      "/root/miniconda3/lib/python3.10/site-packages/accelerate/accelerator.py:432: FutureWarning: Passing the following arguments to `Accelerator` is deprecated and will be removed in version 1.0 of Accelerate: dict_keys(['dispatch_batches', 'split_batches', 'even_batches', 'use_seedable_sampler']). Please pass an `accelerate.DataLoaderConfiguration` instead: \n",
      "dataloader_config = DataLoaderConfiguration(dispatch_batches=None, split_batches=False, even_batches=True, use_seedable_sampler=True)\n",
      "  warnings.warn(\n"
     ]
    }
   ],
   "source": [
    "trainer = Trainer(\n",
    "    model=model,\n",
    "    args=args,\n",
    "    train_dataset=dataset_train,\n",
    "    eval_dataset=dataset_val,\n",
    "    data_collator=DataCollatorForSeq2Seq(tokenizer=tokenizer, padding=True),\n",
    ")"
   ]
  },
  {
   "cell_type": "code",
   "execution_count": null,
   "metadata": {},
   "outputs": [],
   "source": [
    "model = model.train()\n",
    "trainer.train()"
   ]
  },
  {
   "cell_type": "code",
   "execution_count": 41,
   "metadata": {},
   "outputs": [
    {
     "data": {
      "text/plain": [
       "{'train_runtime': 13993.0434,\n",
       " 'train_samples_per_second': 8.053,\n",
       " 'train_steps_per_second': 0.126,\n",
       " 'total_flos': 7.908242624810189e+16,\n",
       " 'train_loss': 0.11842206811521795,\n",
       " 'epoch': 9.99,\n",
       " 'step': 1760}"
      ]
     },
     "execution_count": 41,
     "metadata": {},
     "output_type": "execute_result"
    }
   ],
   "source": [
    "trainer.state.log_history[-1]"
   ]
  },
  {
   "cell_type": "code",
   "execution_count": 43,
   "metadata": {},
   "outputs": [
    {
     "data": {
      "text/html": [
       "<div>\n",
       "<style scoped>\n",
       "    .dataframe tbody tr th:only-of-type {\n",
       "        vertical-align: middle;\n",
       "    }\n",
       "\n",
       "    .dataframe tbody tr th {\n",
       "        vertical-align: top;\n",
       "    }\n",
       "\n",
       "    .dataframe thead th {\n",
       "        text-align: right;\n",
       "    }\n",
       "</style>\n",
       "<table border=\"1\" class=\"dataframe\">\n",
       "  <thead>\n",
       "    <tr style=\"text-align: right;\">\n",
       "      <th></th>\n",
       "      <th>loss</th>\n",
       "      <th>grad_norm</th>\n",
       "      <th>learning_rate</th>\n",
       "      <th>epoch</th>\n",
       "      <th>step</th>\n",
       "    </tr>\n",
       "  </thead>\n",
       "  <tbody>\n",
       "    <tr>\n",
       "      <th>0</th>\n",
       "      <td>0.5953</td>\n",
       "      <td>1.416130</td>\n",
       "      <td>9.715909e-05</td>\n",
       "      <td>0.28</td>\n",
       "      <td>50</td>\n",
       "    </tr>\n",
       "    <tr>\n",
       "      <th>1</th>\n",
       "      <td>0.2957</td>\n",
       "      <td>1.410649</td>\n",
       "      <td>9.431818e-05</td>\n",
       "      <td>0.57</td>\n",
       "      <td>100</td>\n",
       "    </tr>\n",
       "    <tr>\n",
       "      <th>2</th>\n",
       "      <td>0.3032</td>\n",
       "      <td>0.736870</td>\n",
       "      <td>9.147727e-05</td>\n",
       "      <td>0.85</td>\n",
       "      <td>150</td>\n",
       "    </tr>\n",
       "    <tr>\n",
       "      <th>3</th>\n",
       "      <td>0.2922</td>\n",
       "      <td>1.955565</td>\n",
       "      <td>8.863636e-05</td>\n",
       "      <td>1.13</td>\n",
       "      <td>200</td>\n",
       "    </tr>\n",
       "    <tr>\n",
       "      <th>4</th>\n",
       "      <td>0.2793</td>\n",
       "      <td>1.194099</td>\n",
       "      <td>8.579545e-05</td>\n",
       "      <td>1.42</td>\n",
       "      <td>250</td>\n",
       "    </tr>\n",
       "    <tr>\n",
       "      <th>5</th>\n",
       "      <td>0.2993</td>\n",
       "      <td>0.681697</td>\n",
       "      <td>8.295455e-05</td>\n",
       "      <td>1.70</td>\n",
       "      <td>300</td>\n",
       "    </tr>\n",
       "    <tr>\n",
       "      <th>6</th>\n",
       "      <td>0.2834</td>\n",
       "      <td>1.484904</td>\n",
       "      <td>8.011364e-05</td>\n",
       "      <td>1.99</td>\n",
       "      <td>350</td>\n",
       "    </tr>\n",
       "    <tr>\n",
       "      <th>7</th>\n",
       "      <td>0.2485</td>\n",
       "      <td>2.011010</td>\n",
       "      <td>7.727273e-05</td>\n",
       "      <td>2.27</td>\n",
       "      <td>400</td>\n",
       "    </tr>\n",
       "    <tr>\n",
       "      <th>8</th>\n",
       "      <td>0.2479</td>\n",
       "      <td>1.616669</td>\n",
       "      <td>7.443182e-05</td>\n",
       "      <td>2.55</td>\n",
       "      <td>450</td>\n",
       "    </tr>\n",
       "    <tr>\n",
       "      <th>9</th>\n",
       "      <td>0.2439</td>\n",
       "      <td>2.010336</td>\n",
       "      <td>7.159091e-05</td>\n",
       "      <td>2.84</td>\n",
       "      <td>500</td>\n",
       "    </tr>\n",
       "    <tr>\n",
       "      <th>10</th>\n",
       "      <td>0.2085</td>\n",
       "      <td>2.636264</td>\n",
       "      <td>6.875000e-05</td>\n",
       "      <td>3.12</td>\n",
       "      <td>550</td>\n",
       "    </tr>\n",
       "    <tr>\n",
       "      <th>11</th>\n",
       "      <td>0.1339</td>\n",
       "      <td>2.754574</td>\n",
       "      <td>6.590909e-05</td>\n",
       "      <td>3.40</td>\n",
       "      <td>600</td>\n",
       "    </tr>\n",
       "    <tr>\n",
       "      <th>12</th>\n",
       "      <td>0.1357</td>\n",
       "      <td>3.911388</td>\n",
       "      <td>6.306818e-05</td>\n",
       "      <td>3.69</td>\n",
       "      <td>650</td>\n",
       "    </tr>\n",
       "    <tr>\n",
       "      <th>13</th>\n",
       "      <td>0.1388</td>\n",
       "      <td>2.207241</td>\n",
       "      <td>6.022727e-05</td>\n",
       "      <td>3.97</td>\n",
       "      <td>700</td>\n",
       "    </tr>\n",
       "    <tr>\n",
       "      <th>14</th>\n",
       "      <td>0.0651</td>\n",
       "      <td>3.194873</td>\n",
       "      <td>5.738636e-05</td>\n",
       "      <td>4.26</td>\n",
       "      <td>750</td>\n",
       "    </tr>\n",
       "    <tr>\n",
       "      <th>15</th>\n",
       "      <td>0.0564</td>\n",
       "      <td>2.588960</td>\n",
       "      <td>5.454545e-05</td>\n",
       "      <td>4.54</td>\n",
       "      <td>800</td>\n",
       "    </tr>\n",
       "    <tr>\n",
       "      <th>16</th>\n",
       "      <td>0.0530</td>\n",
       "      <td>3.103172</td>\n",
       "      <td>5.170455e-05</td>\n",
       "      <td>4.82</td>\n",
       "      <td>850</td>\n",
       "    </tr>\n",
       "    <tr>\n",
       "      <th>17</th>\n",
       "      <td>0.0526</td>\n",
       "      <td>1.080651</td>\n",
       "      <td>4.886364e-05</td>\n",
       "      <td>5.11</td>\n",
       "      <td>900</td>\n",
       "    </tr>\n",
       "    <tr>\n",
       "      <th>18</th>\n",
       "      <td>0.0331</td>\n",
       "      <td>1.345886</td>\n",
       "      <td>4.602273e-05</td>\n",
       "      <td>5.39</td>\n",
       "      <td>950</td>\n",
       "    </tr>\n",
       "    <tr>\n",
       "      <th>19</th>\n",
       "      <td>0.0369</td>\n",
       "      <td>1.167316</td>\n",
       "      <td>4.318182e-05</td>\n",
       "      <td>5.67</td>\n",
       "      <td>1000</td>\n",
       "    </tr>\n",
       "    <tr>\n",
       "      <th>20</th>\n",
       "      <td>0.0312</td>\n",
       "      <td>2.605082</td>\n",
       "      <td>4.034091e-05</td>\n",
       "      <td>5.96</td>\n",
       "      <td>1050</td>\n",
       "    </tr>\n",
       "    <tr>\n",
       "      <th>21</th>\n",
       "      <td>0.0195</td>\n",
       "      <td>1.676645</td>\n",
       "      <td>3.750000e-05</td>\n",
       "      <td>6.24</td>\n",
       "      <td>1100</td>\n",
       "    </tr>\n",
       "    <tr>\n",
       "      <th>22</th>\n",
       "      <td>0.0241</td>\n",
       "      <td>2.250445</td>\n",
       "      <td>3.465909e-05</td>\n",
       "      <td>6.52</td>\n",
       "      <td>1150</td>\n",
       "    </tr>\n",
       "    <tr>\n",
       "      <th>23</th>\n",
       "      <td>0.0135</td>\n",
       "      <td>1.250226</td>\n",
       "      <td>3.181818e-05</td>\n",
       "      <td>6.81</td>\n",
       "      <td>1200</td>\n",
       "    </tr>\n",
       "    <tr>\n",
       "      <th>24</th>\n",
       "      <td>0.0172</td>\n",
       "      <td>0.245469</td>\n",
       "      <td>2.897727e-05</td>\n",
       "      <td>7.09</td>\n",
       "      <td>1250</td>\n",
       "    </tr>\n",
       "    <tr>\n",
       "      <th>25</th>\n",
       "      <td>0.0117</td>\n",
       "      <td>0.391704</td>\n",
       "      <td>2.613636e-05</td>\n",
       "      <td>7.38</td>\n",
       "      <td>1300</td>\n",
       "    </tr>\n",
       "    <tr>\n",
       "      <th>26</th>\n",
       "      <td>0.0111</td>\n",
       "      <td>0.099871</td>\n",
       "      <td>2.329545e-05</td>\n",
       "      <td>7.66</td>\n",
       "      <td>1350</td>\n",
       "    </tr>\n",
       "    <tr>\n",
       "      <th>27</th>\n",
       "      <td>0.0128</td>\n",
       "      <td>0.097646</td>\n",
       "      <td>2.045455e-05</td>\n",
       "      <td>7.94</td>\n",
       "      <td>1400</td>\n",
       "    </tr>\n",
       "    <tr>\n",
       "      <th>28</th>\n",
       "      <td>0.0045</td>\n",
       "      <td>0.113624</td>\n",
       "      <td>1.761364e-05</td>\n",
       "      <td>8.23</td>\n",
       "      <td>1450</td>\n",
       "    </tr>\n",
       "    <tr>\n",
       "      <th>29</th>\n",
       "      <td>0.0068</td>\n",
       "      <td>0.041686</td>\n",
       "      <td>1.477273e-05</td>\n",
       "      <td>8.51</td>\n",
       "      <td>1500</td>\n",
       "    </tr>\n",
       "    <tr>\n",
       "      <th>30</th>\n",
       "      <td>0.0048</td>\n",
       "      <td>3.487982</td>\n",
       "      <td>1.193182e-05</td>\n",
       "      <td>8.79</td>\n",
       "      <td>1550</td>\n",
       "    </tr>\n",
       "    <tr>\n",
       "      <th>31</th>\n",
       "      <td>0.0035</td>\n",
       "      <td>0.015730</td>\n",
       "      <td>9.090909e-06</td>\n",
       "      <td>9.08</td>\n",
       "      <td>1600</td>\n",
       "    </tr>\n",
       "    <tr>\n",
       "      <th>32</th>\n",
       "      <td>0.0009</td>\n",
       "      <td>0.121363</td>\n",
       "      <td>6.250000e-06</td>\n",
       "      <td>9.36</td>\n",
       "      <td>1650</td>\n",
       "    </tr>\n",
       "    <tr>\n",
       "      <th>33</th>\n",
       "      <td>0.0025</td>\n",
       "      <td>0.153186</td>\n",
       "      <td>3.409091e-06</td>\n",
       "      <td>9.65</td>\n",
       "      <td>1700</td>\n",
       "    </tr>\n",
       "    <tr>\n",
       "      <th>34</th>\n",
       "      <td>0.0016</td>\n",
       "      <td>0.002847</td>\n",
       "      <td>5.681818e-07</td>\n",
       "      <td>9.93</td>\n",
       "      <td>1750</td>\n",
       "    </tr>\n",
       "  </tbody>\n",
       "</table>\n",
       "</div>"
      ],
      "text/plain": [
       "      loss  grad_norm  learning_rate  epoch  step\n",
       "0   0.5953   1.416130   9.715909e-05   0.28    50\n",
       "1   0.2957   1.410649   9.431818e-05   0.57   100\n",
       "2   0.3032   0.736870   9.147727e-05   0.85   150\n",
       "3   0.2922   1.955565   8.863636e-05   1.13   200\n",
       "4   0.2793   1.194099   8.579545e-05   1.42   250\n",
       "5   0.2993   0.681697   8.295455e-05   1.70   300\n",
       "6   0.2834   1.484904   8.011364e-05   1.99   350\n",
       "7   0.2485   2.011010   7.727273e-05   2.27   400\n",
       "8   0.2479   1.616669   7.443182e-05   2.55   450\n",
       "9   0.2439   2.010336   7.159091e-05   2.84   500\n",
       "10  0.2085   2.636264   6.875000e-05   3.12   550\n",
       "11  0.1339   2.754574   6.590909e-05   3.40   600\n",
       "12  0.1357   3.911388   6.306818e-05   3.69   650\n",
       "13  0.1388   2.207241   6.022727e-05   3.97   700\n",
       "14  0.0651   3.194873   5.738636e-05   4.26   750\n",
       "15  0.0564   2.588960   5.454545e-05   4.54   800\n",
       "16  0.0530   3.103172   5.170455e-05   4.82   850\n",
       "17  0.0526   1.080651   4.886364e-05   5.11   900\n",
       "18  0.0331   1.345886   4.602273e-05   5.39   950\n",
       "19  0.0369   1.167316   4.318182e-05   5.67  1000\n",
       "20  0.0312   2.605082   4.034091e-05   5.96  1050\n",
       "21  0.0195   1.676645   3.750000e-05   6.24  1100\n",
       "22  0.0241   2.250445   3.465909e-05   6.52  1150\n",
       "23  0.0135   1.250226   3.181818e-05   6.81  1200\n",
       "24  0.0172   0.245469   2.897727e-05   7.09  1250\n",
       "25  0.0117   0.391704   2.613636e-05   7.38  1300\n",
       "26  0.0111   0.099871   2.329545e-05   7.66  1350\n",
       "27  0.0128   0.097646   2.045455e-05   7.94  1400\n",
       "28  0.0045   0.113624   1.761364e-05   8.23  1450\n",
       "29  0.0068   0.041686   1.477273e-05   8.51  1500\n",
       "30  0.0048   3.487982   1.193182e-05   8.79  1550\n",
       "31  0.0035   0.015730   9.090909e-06   9.08  1600\n",
       "32  0.0009   0.121363   6.250000e-06   9.36  1650\n",
       "33  0.0025   0.153186   3.409091e-06   9.65  1700\n",
       "34  0.0016   0.002847   5.681818e-07   9.93  1750"
      ]
     },
     "execution_count": 43,
     "metadata": {},
     "output_type": "execute_result"
    }
   ],
   "source": [
    "log1 = pd.DataFrame(trainer.state.log_history[:-1:2])\n",
    "log1.to_csv(\"./log/log_train.csv\")\n",
    "log1"
   ]
  },
  {
   "cell_type": "code",
   "execution_count": 44,
   "metadata": {},
   "outputs": [
    {
     "data": {
      "text/html": [
       "<div>\n",
       "<style scoped>\n",
       "    .dataframe tbody tr th:only-of-type {\n",
       "        vertical-align: middle;\n",
       "    }\n",
       "\n",
       "    .dataframe tbody tr th {\n",
       "        vertical-align: top;\n",
       "    }\n",
       "\n",
       "    .dataframe thead th {\n",
       "        text-align: right;\n",
       "    }\n",
       "</style>\n",
       "<table border=\"1\" class=\"dataframe\">\n",
       "  <thead>\n",
       "    <tr style=\"text-align: right;\">\n",
       "      <th></th>\n",
       "      <th>eval_loss</th>\n",
       "      <th>eval_runtime</th>\n",
       "      <th>eval_samples_per_second</th>\n",
       "      <th>eval_steps_per_second</th>\n",
       "      <th>epoch</th>\n",
       "      <th>step</th>\n",
       "    </tr>\n",
       "  </thead>\n",
       "  <tbody>\n",
       "    <tr>\n",
       "      <th>0</th>\n",
       "      <td>0.296076</td>\n",
       "      <td>44.4818</td>\n",
       "      <td>28.169</td>\n",
       "      <td>1.776</td>\n",
       "      <td>0.28</td>\n",
       "      <td>50</td>\n",
       "    </tr>\n",
       "    <tr>\n",
       "      <th>1</th>\n",
       "      <td>0.319056</td>\n",
       "      <td>44.4102</td>\n",
       "      <td>28.214</td>\n",
       "      <td>1.779</td>\n",
       "      <td>0.57</td>\n",
       "      <td>100</td>\n",
       "    </tr>\n",
       "    <tr>\n",
       "      <th>2</th>\n",
       "      <td>0.322706</td>\n",
       "      <td>44.4011</td>\n",
       "      <td>28.220</td>\n",
       "      <td>1.779</td>\n",
       "      <td>0.85</td>\n",
       "      <td>150</td>\n",
       "    </tr>\n",
       "    <tr>\n",
       "      <th>3</th>\n",
       "      <td>0.300211</td>\n",
       "      <td>44.3795</td>\n",
       "      <td>28.234</td>\n",
       "      <td>1.780</td>\n",
       "      <td>1.13</td>\n",
       "      <td>200</td>\n",
       "    </tr>\n",
       "    <tr>\n",
       "      <th>4</th>\n",
       "      <td>0.348036</td>\n",
       "      <td>44.4144</td>\n",
       "      <td>28.212</td>\n",
       "      <td>1.779</td>\n",
       "      <td>1.42</td>\n",
       "      <td>250</td>\n",
       "    </tr>\n",
       "    <tr>\n",
       "      <th>5</th>\n",
       "      <td>0.285136</td>\n",
       "      <td>44.3888</td>\n",
       "      <td>28.228</td>\n",
       "      <td>1.780</td>\n",
       "      <td>1.70</td>\n",
       "      <td>300</td>\n",
       "    </tr>\n",
       "    <tr>\n",
       "      <th>6</th>\n",
       "      <td>0.286006</td>\n",
       "      <td>44.3468</td>\n",
       "      <td>28.255</td>\n",
       "      <td>1.781</td>\n",
       "      <td>1.99</td>\n",
       "      <td>350</td>\n",
       "    </tr>\n",
       "    <tr>\n",
       "      <th>7</th>\n",
       "      <td>0.330289</td>\n",
       "      <td>44.3467</td>\n",
       "      <td>28.255</td>\n",
       "      <td>1.781</td>\n",
       "      <td>2.27</td>\n",
       "      <td>400</td>\n",
       "    </tr>\n",
       "    <tr>\n",
       "      <th>8</th>\n",
       "      <td>0.297577</td>\n",
       "      <td>44.3388</td>\n",
       "      <td>28.260</td>\n",
       "      <td>1.782</td>\n",
       "      <td>2.55</td>\n",
       "      <td>450</td>\n",
       "    </tr>\n",
       "    <tr>\n",
       "      <th>9</th>\n",
       "      <td>0.305336</td>\n",
       "      <td>44.3804</td>\n",
       "      <td>28.233</td>\n",
       "      <td>1.780</td>\n",
       "      <td>2.84</td>\n",
       "      <td>500</td>\n",
       "    </tr>\n",
       "    <tr>\n",
       "      <th>10</th>\n",
       "      <td>0.409356</td>\n",
       "      <td>44.3719</td>\n",
       "      <td>28.239</td>\n",
       "      <td>1.780</td>\n",
       "      <td>3.12</td>\n",
       "      <td>550</td>\n",
       "    </tr>\n",
       "    <tr>\n",
       "      <th>11</th>\n",
       "      <td>0.381453</td>\n",
       "      <td>44.4299</td>\n",
       "      <td>28.202</td>\n",
       "      <td>1.778</td>\n",
       "      <td>3.40</td>\n",
       "      <td>600</td>\n",
       "    </tr>\n",
       "    <tr>\n",
       "      <th>12</th>\n",
       "      <td>0.436316</td>\n",
       "      <td>44.3915</td>\n",
       "      <td>28.226</td>\n",
       "      <td>1.780</td>\n",
       "      <td>3.69</td>\n",
       "      <td>650</td>\n",
       "    </tr>\n",
       "    <tr>\n",
       "      <th>13</th>\n",
       "      <td>0.391536</td>\n",
       "      <td>44.3780</td>\n",
       "      <td>28.235</td>\n",
       "      <td>1.780</td>\n",
       "      <td>3.97</td>\n",
       "      <td>700</td>\n",
       "    </tr>\n",
       "    <tr>\n",
       "      <th>14</th>\n",
       "      <td>0.653099</td>\n",
       "      <td>44.4142</td>\n",
       "      <td>28.212</td>\n",
       "      <td>1.779</td>\n",
       "      <td>4.26</td>\n",
       "      <td>750</td>\n",
       "    </tr>\n",
       "    <tr>\n",
       "      <th>15</th>\n",
       "      <td>0.638128</td>\n",
       "      <td>44.4031</td>\n",
       "      <td>28.219</td>\n",
       "      <td>1.779</td>\n",
       "      <td>4.54</td>\n",
       "      <td>800</td>\n",
       "    </tr>\n",
       "    <tr>\n",
       "      <th>16</th>\n",
       "      <td>0.603092</td>\n",
       "      <td>44.3135</td>\n",
       "      <td>28.276</td>\n",
       "      <td>1.783</td>\n",
       "      <td>4.82</td>\n",
       "      <td>850</td>\n",
       "    </tr>\n",
       "    <tr>\n",
       "      <th>17</th>\n",
       "      <td>0.607932</td>\n",
       "      <td>44.3244</td>\n",
       "      <td>28.269</td>\n",
       "      <td>1.782</td>\n",
       "      <td>5.11</td>\n",
       "      <td>900</td>\n",
       "    </tr>\n",
       "    <tr>\n",
       "      <th>18</th>\n",
       "      <td>0.689778</td>\n",
       "      <td>44.3330</td>\n",
       "      <td>28.263</td>\n",
       "      <td>1.782</td>\n",
       "      <td>5.39</td>\n",
       "      <td>950</td>\n",
       "    </tr>\n",
       "    <tr>\n",
       "      <th>19</th>\n",
       "      <td>0.658027</td>\n",
       "      <td>44.3060</td>\n",
       "      <td>28.281</td>\n",
       "      <td>1.783</td>\n",
       "      <td>5.67</td>\n",
       "      <td>1000</td>\n",
       "    </tr>\n",
       "    <tr>\n",
       "      <th>20</th>\n",
       "      <td>0.787014</td>\n",
       "      <td>44.3139</td>\n",
       "      <td>28.276</td>\n",
       "      <td>1.783</td>\n",
       "      <td>5.96</td>\n",
       "      <td>1050</td>\n",
       "    </tr>\n",
       "    <tr>\n",
       "      <th>21</th>\n",
       "      <td>0.920750</td>\n",
       "      <td>44.3116</td>\n",
       "      <td>28.277</td>\n",
       "      <td>1.783</td>\n",
       "      <td>6.24</td>\n",
       "      <td>1100</td>\n",
       "    </tr>\n",
       "    <tr>\n",
       "      <th>22</th>\n",
       "      <td>0.831688</td>\n",
       "      <td>44.3135</td>\n",
       "      <td>28.276</td>\n",
       "      <td>1.783</td>\n",
       "      <td>6.52</td>\n",
       "      <td>1150</td>\n",
       "    </tr>\n",
       "    <tr>\n",
       "      <th>23</th>\n",
       "      <td>0.797479</td>\n",
       "      <td>44.3575</td>\n",
       "      <td>28.248</td>\n",
       "      <td>1.781</td>\n",
       "      <td>6.81</td>\n",
       "      <td>1200</td>\n",
       "    </tr>\n",
       "    <tr>\n",
       "      <th>24</th>\n",
       "      <td>0.861561</td>\n",
       "      <td>44.3963</td>\n",
       "      <td>28.223</td>\n",
       "      <td>1.779</td>\n",
       "      <td>7.09</td>\n",
       "      <td>1250</td>\n",
       "    </tr>\n",
       "    <tr>\n",
       "      <th>25</th>\n",
       "      <td>1.056439</td>\n",
       "      <td>44.3881</td>\n",
       "      <td>28.228</td>\n",
       "      <td>1.780</td>\n",
       "      <td>7.38</td>\n",
       "      <td>1300</td>\n",
       "    </tr>\n",
       "    <tr>\n",
       "      <th>26</th>\n",
       "      <td>0.862327</td>\n",
       "      <td>44.4116</td>\n",
       "      <td>28.213</td>\n",
       "      <td>1.779</td>\n",
       "      <td>7.66</td>\n",
       "      <td>1350</td>\n",
       "    </tr>\n",
       "    <tr>\n",
       "      <th>27</th>\n",
       "      <td>0.855021</td>\n",
       "      <td>44.4300</td>\n",
       "      <td>28.202</td>\n",
       "      <td>1.778</td>\n",
       "      <td>7.94</td>\n",
       "      <td>1400</td>\n",
       "    </tr>\n",
       "    <tr>\n",
       "      <th>28</th>\n",
       "      <td>1.074412</td>\n",
       "      <td>44.4342</td>\n",
       "      <td>28.199</td>\n",
       "      <td>1.778</td>\n",
       "      <td>8.23</td>\n",
       "      <td>1450</td>\n",
       "    </tr>\n",
       "    <tr>\n",
       "      <th>29</th>\n",
       "      <td>0.916407</td>\n",
       "      <td>44.3936</td>\n",
       "      <td>28.225</td>\n",
       "      <td>1.780</td>\n",
       "      <td>8.51</td>\n",
       "      <td>1500</td>\n",
       "    </tr>\n",
       "    <tr>\n",
       "      <th>30</th>\n",
       "      <td>0.882858</td>\n",
       "      <td>44.4128</td>\n",
       "      <td>28.213</td>\n",
       "      <td>1.779</td>\n",
       "      <td>8.79</td>\n",
       "      <td>1550</td>\n",
       "    </tr>\n",
       "    <tr>\n",
       "      <th>31</th>\n",
       "      <td>0.896731</td>\n",
       "      <td>44.3960</td>\n",
       "      <td>28.223</td>\n",
       "      <td>1.779</td>\n",
       "      <td>9.08</td>\n",
       "      <td>1600</td>\n",
       "    </tr>\n",
       "    <tr>\n",
       "      <th>32</th>\n",
       "      <td>0.961481</td>\n",
       "      <td>44.3829</td>\n",
       "      <td>28.232</td>\n",
       "      <td>1.780</td>\n",
       "      <td>9.36</td>\n",
       "      <td>1650</td>\n",
       "    </tr>\n",
       "    <tr>\n",
       "      <th>33</th>\n",
       "      <td>0.962989</td>\n",
       "      <td>44.3762</td>\n",
       "      <td>28.236</td>\n",
       "      <td>1.780</td>\n",
       "      <td>9.65</td>\n",
       "      <td>1700</td>\n",
       "    </tr>\n",
       "    <tr>\n",
       "      <th>34</th>\n",
       "      <td>0.970086</td>\n",
       "      <td>44.3997</td>\n",
       "      <td>28.221</td>\n",
       "      <td>1.779</td>\n",
       "      <td>9.93</td>\n",
       "      <td>1750</td>\n",
       "    </tr>\n",
       "  </tbody>\n",
       "</table>\n",
       "</div>"
      ],
      "text/plain": [
       "    eval_loss  eval_runtime  eval_samples_per_second  eval_steps_per_second  \\\n",
       "0    0.296076       44.4818                   28.169                  1.776   \n",
       "1    0.319056       44.4102                   28.214                  1.779   \n",
       "2    0.322706       44.4011                   28.220                  1.779   \n",
       "3    0.300211       44.3795                   28.234                  1.780   \n",
       "4    0.348036       44.4144                   28.212                  1.779   \n",
       "5    0.285136       44.3888                   28.228                  1.780   \n",
       "6    0.286006       44.3468                   28.255                  1.781   \n",
       "7    0.330289       44.3467                   28.255                  1.781   \n",
       "8    0.297577       44.3388                   28.260                  1.782   \n",
       "9    0.305336       44.3804                   28.233                  1.780   \n",
       "10   0.409356       44.3719                   28.239                  1.780   \n",
       "11   0.381453       44.4299                   28.202                  1.778   \n",
       "12   0.436316       44.3915                   28.226                  1.780   \n",
       "13   0.391536       44.3780                   28.235                  1.780   \n",
       "14   0.653099       44.4142                   28.212                  1.779   \n",
       "15   0.638128       44.4031                   28.219                  1.779   \n",
       "16   0.603092       44.3135                   28.276                  1.783   \n",
       "17   0.607932       44.3244                   28.269                  1.782   \n",
       "18   0.689778       44.3330                   28.263                  1.782   \n",
       "19   0.658027       44.3060                   28.281                  1.783   \n",
       "20   0.787014       44.3139                   28.276                  1.783   \n",
       "21   0.920750       44.3116                   28.277                  1.783   \n",
       "22   0.831688       44.3135                   28.276                  1.783   \n",
       "23   0.797479       44.3575                   28.248                  1.781   \n",
       "24   0.861561       44.3963                   28.223                  1.779   \n",
       "25   1.056439       44.3881                   28.228                  1.780   \n",
       "26   0.862327       44.4116                   28.213                  1.779   \n",
       "27   0.855021       44.4300                   28.202                  1.778   \n",
       "28   1.074412       44.4342                   28.199                  1.778   \n",
       "29   0.916407       44.3936                   28.225                  1.780   \n",
       "30   0.882858       44.4128                   28.213                  1.779   \n",
       "31   0.896731       44.3960                   28.223                  1.779   \n",
       "32   0.961481       44.3829                   28.232                  1.780   \n",
       "33   0.962989       44.3762                   28.236                  1.780   \n",
       "34   0.970086       44.3997                   28.221                  1.779   \n",
       "\n",
       "    epoch  step  \n",
       "0    0.28    50  \n",
       "1    0.57   100  \n",
       "2    0.85   150  \n",
       "3    1.13   200  \n",
       "4    1.42   250  \n",
       "5    1.70   300  \n",
       "6    1.99   350  \n",
       "7    2.27   400  \n",
       "8    2.55   450  \n",
       "9    2.84   500  \n",
       "10   3.12   550  \n",
       "11   3.40   600  \n",
       "12   3.69   650  \n",
       "13   3.97   700  \n",
       "14   4.26   750  \n",
       "15   4.54   800  \n",
       "16   4.82   850  \n",
       "17   5.11   900  \n",
       "18   5.39   950  \n",
       "19   5.67  1000  \n",
       "20   5.96  1050  \n",
       "21   6.24  1100  \n",
       "22   6.52  1150  \n",
       "23   6.81  1200  \n",
       "24   7.09  1250  \n",
       "25   7.38  1300  \n",
       "26   7.66  1350  \n",
       "27   7.94  1400  \n",
       "28   8.23  1450  \n",
       "29   8.51  1500  \n",
       "30   8.79  1550  \n",
       "31   9.08  1600  \n",
       "32   9.36  1650  \n",
       "33   9.65  1700  \n",
       "34   9.93  1750  "
      ]
     },
     "execution_count": 44,
     "metadata": {},
     "output_type": "execute_result"
    }
   ],
   "source": [
    "log2 = pd.DataFrame(trainer.state.log_history[1::2])\n",
    "log2.to_csv(\"./log/log_eval.csv\")\n",
    "log2"
   ]
  },
  {
   "cell_type": "markdown",
   "metadata": {},
   "source": [
    "# 6. 评估模型"
   ]
  },
  {
   "cell_type": "markdown",
   "metadata": {},
   "source": [
    "## 评估分类结果"
   ]
  },
  {
   "cell_type": "code",
   "execution_count": 20,
   "metadata": {},
   "outputs": [],
   "source": [
    "content_list = data_test[\"joke\"]"
   ]
  },
  {
   "cell_type": "code",
   "execution_count": 10,
   "metadata": {},
   "outputs": [],
   "source": [
    "device = \"cuda\"\n",
    "\n",
    "\n",
    "def generate_response(system_content, content):\n",
    "    messages = [\n",
    "        {\"role\": \"system\", \"content\": system_content},\n",
    "        {\"role\": \"user\", \"content\": content},\n",
    "    ]\n",
    "    text = tokenizer.apply_chat_template(\n",
    "        messages, tokenize=False, add_generation_prompt=True\n",
    "    )\n",
    "    model_inputs = tokenizer([text], return_tensors=\"pt\").to(device)\n",
    "\n",
    "    generated_ids = model.generate(model_inputs.input_ids, max_new_tokens=256)\n",
    "    generated_ids = [\n",
    "        output_ids[len(input_ids) :]\n",
    "        for input_ids, output_ids in zip(model_inputs.input_ids, generated_ids)\n",
    "    ]\n",
    "\n",
    "    response = tokenizer.batch_decode(generated_ids, skip_special_tokens=True)[0]\n",
    "\n",
    "    return response"
   ]
  },
  {
   "cell_type": "code",
   "execution_count": 22,
   "metadata": {},
   "outputs": [],
   "source": [
    "responses = []\n",
    "max_retries = 5\n",
    "system_content = \"你是一位语言学家，请根据以下文本中的幽默，将其准确分类为弱幽默、一般幽默或强幽默。输出只能是'弱幽默','一般幽默','强幽默'三者之一。\""
   ]
  },
  {
   "cell_type": "code",
   "execution_count": null,
   "metadata": {},
   "outputs": [],
   "source": [
    "model = model.eval()"
   ]
  },
  {
   "cell_type": "code",
   "execution_count": 23,
   "metadata": {},
   "outputs": [
    {
     "data": {
      "application/vnd.jupyter.widget-view+json": {
       "model_id": "5115fdb4bdcc4c9db1c53b42891fa7ab",
       "version_major": 2,
       "version_minor": 0
      },
      "text/plain": [
       "  0%|          | 0/3130 [00:00<?, ?it/s]"
      ]
     },
     "metadata": {},
     "output_type": "display_data"
    },
    {
     "name": "stderr",
     "output_type": "stream",
     "text": [
      "/root/miniconda3/lib/python3.10/site-packages/torch/utils/checkpoint.py:61: UserWarning: None of the inputs have requires_grad=True. Gradients will be None\n",
      "  warnings.warn(\n"
     ]
    }
   ],
   "source": [
    "from tqdm.notebook import trange\n",
    "\n",
    "for i in trange(len(content_list)):\n",
    "    retries = 0\n",
    "    while retries < max_retries:\n",
    "        response = generate_response(system_content, content_list[i])\n",
    "        if response in [\"弱幽默\", \"一般幽默\", \"强幽默\"]:\n",
    "            responses.append(response)\n",
    "            break\n",
    "        else:\n",
    "            retries += 1\n",
    "            print(f\"回答{i}生成错误！生成的结果为：{response}\")\n",
    "    else:\n",
    "        print(f\"回答{i}生成错误次数超过上限！\")"
   ]
  },
  {
   "cell_type": "code",
   "execution_count": 28,
   "metadata": {},
   "outputs": [
    {
     "data": {
      "text/plain": [
       "0\n",
       "一般幽默    2252\n",
       "弱幽默      521\n",
       "强幽默      357\n",
       "Name: count, dtype: int64"
      ]
     },
     "execution_count": 28,
     "metadata": {},
     "output_type": "execute_result"
    }
   ],
   "source": [
    "data_pred = pd.DataFrame(responses)\n",
    "data_pred[\"pred_label\"] = data_pred[0].replace(\n",
    "    {\"弱幽默\": 0, \"一般幽默\": 1, \"强幽默\": 2}\n",
    ")\n",
    "data_pred[0].value_counts()"
   ]
  },
  {
   "cell_type": "code",
   "execution_count": 17,
   "metadata": {},
   "outputs": [],
   "source": [
    "from sklearn import metrics\n",
    "import seaborn as sns\n",
    "import matplotlib.pyplot as plt\n",
    "\n",
    "\n",
    "def evaluate(targets, outputs):\n",
    "    conf = metrics.confusion_matrix(targets, outputs)\n",
    "    data = pd.DataFrame(\n",
    "        conf,\n",
    "        columns=[\"weak humor\", \"normal humor\", \"strong humor\"],\n",
    "        index=[\"weak humor\", \"normal humor\", \"strong humor\"],\n",
    "    )\n",
    "    plt.figure(figsize=(6, 5))\n",
    "    sns.heatmap(data, cmap=plt.cm.Blues, annot=True, fmt=\"d\")\n",
    "    plt.xlabel(\"Predict label\")\n",
    "    plt.ylabel(\"True label\")\n",
    "    plt.title(\"Confusion Matrix\", fontsize=16)\n",
    "    plt.show()\n",
    "    print(\"Classification Report\")\n",
    "    print(metrics.classification_report(targets, outputs))"
   ]
  },
  {
   "cell_type": "code",
   "execution_count": 32,
   "metadata": {},
   "outputs": [
    {
     "data": {
      "image/png": "[encoded data removed]",
      "text/plain": [
       "<Figure size 600x500 with 2 Axes>"
      ]
     },
     "metadata": {},
     "output_type": "display_data"
    },
    {
     "name": "stdout",
     "output_type": "stream",
     "text": [
      "Classification Report\n",
      "              precision    recall  f1-score   support\n",
      "\n",
      "           0       0.56      0.37      0.44       794\n",
      "           1       0.58      0.80      0.67      1635\n",
      "           2       0.39      0.20      0.26       701\n",
      "\n",
      "    accuracy                           0.56      3130\n",
      "   macro avg       0.51      0.46      0.46      3130\n",
      "weighted avg       0.53      0.56      0.52      3130\n",
      "\n"
     ]
    }
   ],
   "source": [
    "evaluate(label_test, data_pred[\"pred_label\"])"
   ]
  },
  {
   "cell_type": "markdown",
   "metadata": {},
   "source": [
    "## 绘制损失函数图"
   ]
  },
  {
   "cell_type": "code",
   "execution_count": 6,
   "metadata": {},
   "outputs": [
    {
     "data": {
      "text/html": [
       "<div>\n",
       "<style scoped>\n",
       "    .dataframe tbody tr th:only-of-type {\n",
       "        vertical-align: middle;\n",
       "    }\n",
       "\n",
       "    .dataframe tbody tr th {\n",
       "        vertical-align: top;\n",
       "    }\n",
       "\n",
       "    .dataframe thead th {\n",
       "        text-align: right;\n",
       "    }\n",
       "</style>\n",
       "<table border=\"1\" class=\"dataframe\">\n",
       "  <thead>\n",
       "    <tr style=\"text-align: right;\">\n",
       "      <th></th>\n",
       "      <th>Unnamed: 0</th>\n",
       "      <th>loss</th>\n",
       "      <th>grad_norm</th>\n",
       "      <th>learning_rate</th>\n",
       "      <th>epoch</th>\n",
       "      <th>step</th>\n",
       "    </tr>\n",
       "  </thead>\n",
       "  <tbody>\n",
       "    <tr>\n",
       "      <th>0</th>\n",
       "      <td>0</td>\n",
       "      <td>0.5953</td>\n",
       "      <td>1.416130</td>\n",
       "      <td>0.000097</td>\n",
       "      <td>0.28</td>\n",
       "      <td>50</td>\n",
       "    </tr>\n",
       "    <tr>\n",
       "      <th>1</th>\n",
       "      <td>1</td>\n",
       "      <td>0.2957</td>\n",
       "      <td>1.410649</td>\n",
       "      <td>0.000094</td>\n",
       "      <td>0.57</td>\n",
       "      <td>100</td>\n",
       "    </tr>\n",
       "    <tr>\n",
       "      <th>2</th>\n",
       "      <td>2</td>\n",
       "      <td>0.3032</td>\n",
       "      <td>0.736870</td>\n",
       "      <td>0.000091</td>\n",
       "      <td>0.85</td>\n",
       "      <td>150</td>\n",
       "    </tr>\n",
       "    <tr>\n",
       "      <th>3</th>\n",
       "      <td>3</td>\n",
       "      <td>0.2922</td>\n",
       "      <td>1.955565</td>\n",
       "      <td>0.000089</td>\n",
       "      <td>1.13</td>\n",
       "      <td>200</td>\n",
       "    </tr>\n",
       "    <tr>\n",
       "      <th>4</th>\n",
       "      <td>4</td>\n",
       "      <td>0.2793</td>\n",
       "      <td>1.194099</td>\n",
       "      <td>0.000086</td>\n",
       "      <td>1.42</td>\n",
       "      <td>250</td>\n",
       "    </tr>\n",
       "  </tbody>\n",
       "</table>\n",
       "</div>"
      ],
      "text/plain": [
       "   Unnamed: 0    loss  grad_norm  learning_rate  epoch  step\n",
       "0           0  0.5953   1.416130       0.000097   0.28    50\n",
       "1           1  0.2957   1.410649       0.000094   0.57   100\n",
       "2           2  0.3032   0.736870       0.000091   0.85   150\n",
       "3           3  0.2922   1.955565       0.000089   1.13   200\n",
       "4           4  0.2793   1.194099       0.000086   1.42   250"
      ]
     },
     "execution_count": 6,
     "metadata": {},
     "output_type": "execute_result"
    }
   ],
   "source": [
    "loss_train = pd.read_csv(\"./log/log_train.csv\")\n",
    "loss_train.head()"
   ]
  },
  {
   "cell_type": "code",
   "execution_count": 7,
   "metadata": {},
   "outputs": [
    {
     "data": {
      "text/html": [
       "<div>\n",
       "<style scoped>\n",
       "    .dataframe tbody tr th:only-of-type {\n",
       "        vertical-align: middle;\n",
       "    }\n",
       "\n",
       "    .dataframe tbody tr th {\n",
       "        vertical-align: top;\n",
       "    }\n",
       "\n",
       "    .dataframe thead th {\n",
       "        text-align: right;\n",
       "    }\n",
       "</style>\n",
       "<table border=\"1\" class=\"dataframe\">\n",
       "  <thead>\n",
       "    <tr style=\"text-align: right;\">\n",
       "      <th></th>\n",
       "      <th>Unnamed: 0</th>\n",
       "      <th>eval_loss</th>\n",
       "      <th>eval_runtime</th>\n",
       "      <th>eval_samples_per_second</th>\n",
       "      <th>eval_steps_per_second</th>\n",
       "      <th>epoch</th>\n",
       "      <th>step</th>\n",
       "    </tr>\n",
       "  </thead>\n",
       "  <tbody>\n",
       "    <tr>\n",
       "      <th>0</th>\n",
       "      <td>0</td>\n",
       "      <td>0.296076</td>\n",
       "      <td>44.4818</td>\n",
       "      <td>28.169</td>\n",
       "      <td>1.776</td>\n",
       "      <td>0.28</td>\n",
       "      <td>50</td>\n",
       "    </tr>\n",
       "    <tr>\n",
       "      <th>1</th>\n",
       "      <td>1</td>\n",
       "      <td>0.319056</td>\n",
       "      <td>44.4102</td>\n",
       "      <td>28.214</td>\n",
       "      <td>1.779</td>\n",
       "      <td>0.57</td>\n",
       "      <td>100</td>\n",
       "    </tr>\n",
       "    <tr>\n",
       "      <th>2</th>\n",
       "      <td>2</td>\n",
       "      <td>0.322706</td>\n",
       "      <td>44.4011</td>\n",
       "      <td>28.220</td>\n",
       "      <td>1.779</td>\n",
       "      <td>0.85</td>\n",
       "      <td>150</td>\n",
       "    </tr>\n",
       "    <tr>\n",
       "      <th>3</th>\n",
       "      <td>3</td>\n",
       "      <td>0.300211</td>\n",
       "      <td>44.3795</td>\n",
       "      <td>28.234</td>\n",
       "      <td>1.780</td>\n",
       "      <td>1.13</td>\n",
       "      <td>200</td>\n",
       "    </tr>\n",
       "    <tr>\n",
       "      <th>4</th>\n",
       "      <td>4</td>\n",
       "      <td>0.348036</td>\n",
       "      <td>44.4144</td>\n",
       "      <td>28.212</td>\n",
       "      <td>1.779</td>\n",
       "      <td>1.42</td>\n",
       "      <td>250</td>\n",
       "    </tr>\n",
       "  </tbody>\n",
       "</table>\n",
       "</div>"
      ],
      "text/plain": [
       "   Unnamed: 0  eval_loss  eval_runtime  eval_samples_per_second  \\\n",
       "0           0   0.296076       44.4818                   28.169   \n",
       "1           1   0.319056       44.4102                   28.214   \n",
       "2           2   0.322706       44.4011                   28.220   \n",
       "3           3   0.300211       44.3795                   28.234   \n",
       "4           4   0.348036       44.4144                   28.212   \n",
       "\n",
       "   eval_steps_per_second  epoch  step  \n",
       "0                  1.776   0.28    50  \n",
       "1                  1.779   0.57   100  \n",
       "2                  1.779   0.85   150  \n",
       "3                  1.780   1.13   200  \n",
       "4                  1.779   1.42   250  "
      ]
     },
     "execution_count": 7,
     "metadata": {},
     "output_type": "execute_result"
    }
   ],
   "source": [
    "loss_eval = pd.read_csv(\"./log/log_eval.csv\")\n",
    "loss_eval.head()"
   ]
  },
  {
   "cell_type": "code",
   "execution_count": 9,
   "metadata": {},
   "outputs": [
    {
     "data": {
      "image/png": "[encoded data removed]",
      "text/plain": [
       "<Figure size 640x480 with 1 Axes>"
      ]
     },
     "metadata": {},
     "output_type": "display_data"
    }
   ],
   "source": [
    "def plot_loss(steps, train_loss, val_loss):\n",
    "    plt.plot(steps, train_loss, \"b\", label=\"Training loss\")\n",
    "    plt.plot(steps, val_loss, \"r\", label=\"Validation loss\")\n",
    "    plt.title(\"Training and Validation Loss\")\n",
    "    plt.xlabel(\"Steps\")\n",
    "    plt.ylabel(\"Loss\")\n",
    "    plt.legend()\n",
    "    plt.show()\n",
    "\n",
    "\n",
    "# 例如：\n",
    "steps = loss_train[\"step\"]\n",
    "train_loss = loss_train[\"loss\"]\n",
    "val_loss = loss_eval[\"eval_loss\"]\n",
    "\n",
    "plot_loss(steps, train_loss, val_loss)"
   ]
  },
  {
   "cell_type": "markdown",
   "metadata": {},
   "source": [
    "# 8. 模型再加载与评估"
   ]
  },
  {
   "cell_type": "markdown",
   "metadata": {},
   "source": [
    "## 检查点400"
   ]
  },
  {
   "cell_type": "code",
   "execution_count": 60,
   "metadata": {},
   "outputs": [],
   "source": [
    "torch.cuda.empty_cache()"
   ]
  },
  {
   "cell_type": "code",
   "execution_count": 46,
   "metadata": {},
   "outputs": [
    {
     "name": "stderr",
     "output_type": "stream",
     "text": [
      "Special tokens have been added in the vocabulary, make sure the associated word embeddings are fine-tuned or trained.\n",
      "/root/miniconda3/lib/python3.10/site-packages/transformers/modeling_utils.py:4193: FutureWarning: `_is_quantized_training_enabled` is going to be deprecated in transformers 4.39.0. Please use `model.hf_quantizer.is_trainable` instead\n",
      "  warnings.warn(\n"
     ]
    },
    {
     "data": {
      "application/vnd.jupyter.widget-view+json": {
       "model_id": "31f3b5c2585c404abbddb60202fff422",
       "version_major": 2,
       "version_minor": 0
      },
      "text/plain": [
       "Loading checkpoint shards:   0%|          | 0/2 [00:00<?, ?it/s]"
      ]
     },
     "metadata": {},
     "output_type": "display_data"
    }
   ],
   "source": [
    "# 加载lora权重\n",
    "from peft import PeftModel\n",
    "\n",
    "mode_path = \"../autodl-tmp/Qwen1___5-7B-Chat-GPTQ-Int4\"\n",
    "# 加载tokenizer\n",
    "tokenizer = AutoTokenizer.from_pretrained(mode_path)\n",
    "\n",
    "# 加载模型\n",
    "model = AutoModelForCausalLM.from_pretrained(\n",
    "    mode_path, device_map=\"auto\", torch_dtype=torch.bfloat16\n",
    ")\n",
    "\n",
    "model = PeftModel.from_pretrained(\n",
    "    model, model_id=\"./output/Qwen/checkpoint-400\", config=config\n",
    ")\n",
    "\n",
    "model = model.eval()"
   ]
  },
  {
   "cell_type": "code",
   "execution_count": null,
   "metadata": {},
   "outputs": [],
   "source": [
    "responses = []"
   ]
  },
  {
   "cell_type": "code",
   "execution_count": 47,
   "metadata": {},
   "outputs": [
    {
     "data": {
      "application/vnd.jupyter.widget-view+json": {
       "model_id": "869d4dac34b74085a147cfa217c46c58",
       "version_major": 2,
       "version_minor": 0
      },
      "text/plain": [
       "  0%|          | 0/3130 [00:00<?, ?it/s]"
      ]
     },
     "metadata": {},
     "output_type": "display_data"
    }
   ],
   "source": [
    "from tqdm.notebook import trange\n",
    "\n",
    "for i in trange(len(content_list)):\n",
    "    retries = 0\n",
    "    while retries < max_retries:\n",
    "        response = generate_response(system_content, content_list[i])\n",
    "        if response in [\"弱幽默\", \"一般幽默\", \"强幽默\"]:\n",
    "            responses.append(response)\n",
    "            break\n",
    "        else:\n",
    "            retries += 1\n",
    "            print(f\"回答{i}生成错误！生成的结果为：{response}\")\n",
    "    else:\n",
    "        print(f\"回答{i}生成错误次数超过上限！\")"
   ]
  },
  {
   "cell_type": "code",
   "execution_count": 58,
   "metadata": {},
   "outputs": [
    {
     "name": "stderr",
     "output_type": "stream",
     "text": [
      "/tmp/ipykernel_6107/1521281013.py:3: FutureWarning: Downcasting behavior in `replace` is deprecated and will be removed in a future version. To retain the old behavior, explicitly call `result.infer_objects(copy=False)`. To opt-in to the future behavior, set `pd.set_option('future.no_silent_downcasting', True)`\n",
      "  data_pred[\"pred_label\"] = data_pred[\"预测标签\"].replace(\n"
     ]
    },
    {
     "data": {
      "text/plain": [
       "预测标签\n",
       "强幽默     1336\n",
       "一般幽默    1297\n",
       "弱幽默      497\n",
       "Name: count, dtype: int64"
      ]
     },
     "execution_count": 58,
     "metadata": {},
     "output_type": "execute_result"
    }
   ],
   "source": [
    "data_pred = pd.DataFrame(responses, columns=[\"预测标签\"])\n",
    "data_pred[\"label\"] = label_test\n",
    "data_pred[\"pred_label\"] = data_pred[\"预测标签\"].replace(\n",
    "    {\"弱幽默\": 0, \"一般幽默\": 1, \"强幽默\": 2}\n",
    ")\n",
    "data_pred[\"预测标签\"].value_counts()"
   ]
  },
  {
   "cell_type": "code",
   "execution_count": 59,
   "metadata": {},
   "outputs": [
    {
     "data": {
      "image/png": "[encoded data removed]",
      "text/plain": [
       "<Figure size 600x500 with 2 Axes>"
      ]
     },
     "metadata": {},
     "output_type": "display_data"
    },
    {
     "name": "stdout",
     "output_type": "stream",
     "text": [
      "Classification Report\n",
      "              precision    recall  f1-score   support\n",
      "\n",
      "           0       0.54      0.34      0.41       794\n",
      "           1       0.66      0.53      0.59      1635\n",
      "           2       0.33      0.63      0.43       701\n",
      "\n",
      "    accuracy                           0.50      3130\n",
      "   macro avg       0.51      0.50      0.48      3130\n",
      "weighted avg       0.56      0.50      0.51      3130\n",
      "\n"
     ]
    }
   ],
   "source": [
    "evaluate(data_pred[\"label\"], data_pred[\"pred_label\"])"
   ]
  },
  {
   "cell_type": "code",
   "execution_count": 61,
   "metadata": {},
   "outputs": [],
   "source": [
    "data_pred.to_csv(\"./data/test_prediction_qwen_finetune_400.csv\")"
   ]
  },
  {
   "cell_type": "markdown",
   "metadata": {},
   "source": [
    "## 检查点1000"
   ]
  },
  {
   "cell_type": "code",
   "execution_count": 13,
   "metadata": {},
   "outputs": [
    {
     "name": "stderr",
     "output_type": "stream",
     "text": [
      "Special tokens have been added in the vocabulary, make sure the associated word embeddings are fine-tuned or trained.\n"
     ]
    },
    {
     "data": {
      "application/vnd.jupyter.widget-view+json": {
       "model_id": "bfee137ed4c64db58254bc4dce2c0ec4",
       "version_major": 2,
       "version_minor": 0
      },
      "text/plain": [
       "Loading checkpoint shards:   0%|          | 0/2 [00:00<?, ?it/s]"
      ]
     },
     "metadata": {},
     "output_type": "display_data"
    }
   ],
   "source": [
    "# 加载lora权重\n",
    "from peft import PeftModel\n",
    "import torch\n",
    "\n",
    "mode_path = \"../autodl-tmp/Qwen1___5-7B-Chat-GPTQ-Int4\"\n",
    "# 加载tokenizer\n",
    "tokenizer = AutoTokenizer.from_pretrained(mode_path)\n",
    "\n",
    "# 加载模型\n",
    "model = AutoModelForCausalLM.from_pretrained(\n",
    "    mode_path, device_map=\"auto\", torch_dtype=torch.bfloat16\n",
    ")\n",
    "\n",
    "model = PeftModel.from_pretrained(\n",
    "    model, model_id=\"./output/Qwen/checkpoint-1000\", config=config\n",
    ")\n",
    "\n",
    "model = model.eval()"
   ]
  },
  {
   "cell_type": "code",
   "execution_count": 14,
   "metadata": {},
   "outputs": [],
   "source": [
    "content_list = data_test[\"joke\"]\n",
    "responses = []\n",
    "max_retries = 5\n",
    "system_content = \"你是一位语言学家，请根据以下文本中的幽默，将其准确分类为弱幽默、一般幽默或强幽默。输出只能是'弱幽默','一般幽默','强幽默'三者之一。\""
   ]
  },
  {
   "cell_type": "code",
   "execution_count": 15,
   "metadata": {},
   "outputs": [
    {
     "data": {
      "application/vnd.jupyter.widget-view+json": {
       "model_id": "faed661bd9f44e98977e2928b4fa0a29",
       "version_major": 2,
       "version_minor": 0
      },
      "text/plain": [
       "  0%|          | 0/3130 [00:00<?, ?it/s]"
      ]
     },
     "metadata": {},
     "output_type": "display_data"
    }
   ],
   "source": [
    "from tqdm.notebook import trange\n",
    "\n",
    "for i in trange(len(content_list)):\n",
    "    retries = 0\n",
    "    while retries < max_retries:\n",
    "        response = generate_response(system_content, content_list[i])\n",
    "        if response in [\"弱幽默\", \"一般幽默\", \"强幽默\"]:\n",
    "            responses.append(response)\n",
    "            break\n",
    "        else:\n",
    "            retries += 1\n",
    "            print(f\"回答{i}生成错误！生成的结果为：{response}\")\n",
    "    else:\n",
    "        print(f\"回答{i}生成错误次数超过上限！\")"
   ]
  },
  {
   "cell_type": "code",
   "execution_count": 19,
   "metadata": {},
   "outputs": [
    {
     "name": "stderr",
     "output_type": "stream",
     "text": [
      "/tmp/ipykernel_10347/1521281013.py:3: FutureWarning: Downcasting behavior in `replace` is deprecated and will be removed in a future version. To retain the old behavior, explicitly call `result.infer_objects(copy=False)`. To opt-in to the future behavior, set `pd.set_option('future.no_silent_downcasting', True)`\n",
      "  data_pred[\"pred_label\"] = data_pred[\"预测标签\"].replace(\n"
     ]
    },
    {
     "data": {
      "text/plain": [
       "预测标签\n",
       "一般幽默    2079\n",
       "弱幽默      562\n",
       "强幽默      489\n",
       "Name: count, dtype: int64"
      ]
     },
     "execution_count": 19,
     "metadata": {},
     "output_type": "execute_result"
    }
   ],
   "source": [
    "data_pred = pd.DataFrame(responses, columns=[\"预测标签\"])\n",
    "data_pred[\"label\"] = label_test\n",
    "data_pred[\"pred_label\"] = data_pred[\"预测标签\"].replace(\n",
    "    {\"弱幽默\": 0, \"一般幽默\": 1, \"强幽默\": 2}\n",
    ")\n",
    "data_pred[\"预测标签\"].value_counts()"
   ]
  },
  {
   "cell_type": "code",
   "execution_count": 18,
   "metadata": {},
   "outputs": [
    {
     "data": {
      "image/png": "[encoded data removed]",
      "text/plain": [
       "<Figure size 600x500 with 2 Axes>"
      ]
     },
     "metadata": {},
     "output_type": "display_data"
    },
    {
     "name": "stdout",
     "output_type": "stream",
     "text": [
      "Classification Report\n",
      "              precision    recall  f1-score   support\n",
      "\n",
      "           0       0.53      0.38      0.44       794\n",
      "           1       0.60      0.76      0.67      1635\n",
      "           2       0.39      0.27      0.32       701\n",
      "\n",
      "    accuracy                           0.55      3130\n",
      "   macro avg       0.51      0.47      0.48      3130\n",
      "weighted avg       0.53      0.55      0.53      3130\n",
      "\n"
     ]
    }
   ],
   "source": [
    "evaluate(data_pred[\"label\"], data_pred[\"pred_label\"])"
   ]
  },
  {
   "cell_type": "code",
   "execution_count": null,
   "metadata": {},
   "outputs": [],
   "source": [
    "data_pred.to_csv(\"./data/test_prediction_qwen_finetune_1000.csv\")"
   ]
  }
 ],
 "metadata": {
  "kernelspec": {
   "display_name": "Python 3 (ipykernel)",
   "language": "python",
   "name": "python3"
  },
  "language_info": {
   "codemirror_mode": {
    "name": "ipython",
    "version": 3
   },
   "file_extension": ".py",
   "mimetype": "text/x-python",
   "name": "python",
   "nbconvert_exporter": "python",
   "pygments_lexer": "ipython3",
   "version": "3.10.8"
  }
 },
 "nbformat": 4,
 "nbformat_minor": 4
}
