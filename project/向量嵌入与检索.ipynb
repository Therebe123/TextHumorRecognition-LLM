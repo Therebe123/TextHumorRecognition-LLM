{
 "cells": [
  {
   "cell_type": "code",
   "execution_count": 8,
   "metadata": {},
   "outputs": [],
   "source": [
    "import pandas as pd\n",
    "import json\n",
    "import seaborn as sns\n",
    "import numpy as np\n",
    "\n",
    "\n",
    "import matplotlib.pyplot as plt\n",
    "from openai import OpenAI\n",
    "from langchain_openai import OpenAIEmbeddings"
   ]
  },
  {
   "cell_type": "code",
   "execution_count": 9,
   "metadata": {},
   "outputs": [],
   "source": [
    "sns.set_theme()\n",
    "plt.rcParams[\"font.sans-serif\"] = [\"SimHei\"]\n",
    "plt.rcParams[\"axes.unicode_minus\"] = False\n",
    "\n",
    "api_key = \"your_api_key\"\n",
    "api_base = \"your_api_base\"\n",
    "client = OpenAI(api_key=api_key, base_url=api_base)"
   ]
  },
  {
   "cell_type": "markdown",
   "metadata": {},
   "source": [
    "# 1. 向量表示\n",
    "## 导入数据"
   ]
  },
  {
   "cell_type": "code",
   "execution_count": 40,
   "metadata": {},
   "outputs": [
    {
     "data": {
      "text/html": [
       "<div>\n",
       "<style scoped>\n",
       "    .dataframe tbody tr th:only-of-type {\n",
       "        vertical-align: middle;\n",
       "    }\n",
       "\n",
       "    .dataframe tbody tr th {\n",
       "        vertical-align: top;\n",
       "    }\n",
       "\n",
       "    .dataframe thead th {\n",
       "        text-align: right;\n",
       "    }\n",
       "</style>\n",
       "<table border=\"1\" class=\"dataframe\">\n",
       "  <thead>\n",
       "    <tr style=\"text-align: right;\">\n",
       "      <th></th>\n",
       "      <th>joke</th>\n",
       "      <th>label</th>\n",
       "      <th>len_joke</th>\n",
       "      <th>标签</th>\n",
       "      <th>pinyin</th>\n",
       "    </tr>\n",
       "  </thead>\n",
       "  <tbody>\n",
       "    <tr>\n",
       "      <th>0</th>\n",
       "      <td>如果你有一百万莎士比亚，他们会像猴子一样写作吗？</td>\n",
       "      <td>1</td>\n",
       "      <td>24</td>\n",
       "      <td>一般幽默</td>\n",
       "      <td>ru2 guo3 ni3 you3 yi1 bai3 wan4 sha1 shi4 bi3 ...</td>\n",
       "    </tr>\n",
       "    <tr>\n",
       "      <th>1</th>\n",
       "      <td>本村有一小伙，在武校上了四五年了， 今年他爹不让他去了，换普通高中了， 因为过年亲戚来了喝了...</td>\n",
       "      <td>1</td>\n",
       "      <td>91</td>\n",
       "      <td>一般幽默</td>\n",
       "      <td>ben3 cun1 you3 yi1 xiao3 huo3 ， zai4 wu3 xiao4...</td>\n",
       "    </tr>\n",
       "    <tr>\n",
       "      <th>2</th>\n",
       "      <td>一天，我刚洗完澡回屋准备穿衣服，刚要穿，房东的女儿倩倩闯进来了，看到我没穿衣服，“啊！”的一...</td>\n",
       "      <td>1</td>\n",
       "      <td>124</td>\n",
       "      <td>一般幽默</td>\n",
       "      <td>yi1 tian1 ， wo3 gang1 xi3 wan2 zao3 hui2 wu1 z...</td>\n",
       "    </tr>\n",
       "    <tr>\n",
       "      <th>3</th>\n",
       "      <td>如果我记得你的名字，我会问你把钥匙放在哪里。</td>\n",
       "      <td>1</td>\n",
       "      <td>22</td>\n",
       "      <td>一般幽默</td>\n",
       "      <td>ru2 guo3 wo3 ji4 de2 ni3 de5 ming2 zi4 ， wo3 h...</td>\n",
       "    </tr>\n",
       "    <tr>\n",
       "      <th>4</th>\n",
       "      <td>我爸爸和几个同事准备去美国，在超市买随身带的东西呢，这时，超市里一个美国人过来用标准的济南话...</td>\n",
       "      <td>1</td>\n",
       "      <td>125</td>\n",
       "      <td>一般幽默</td>\n",
       "      <td>wo3 ba4 ba4 he2 ji1 ge4 tong2 shi4 zhun3 bei4 ...</td>\n",
       "    </tr>\n",
       "  </tbody>\n",
       "</table>\n",
       "</div>"
      ],
      "text/plain": [
       "                                                joke  label  len_joke    标签  \\\n",
       "0                           如果你有一百万莎士比亚，他们会像猴子一样写作吗？      1        24  一般幽默   \n",
       "1  本村有一小伙，在武校上了四五年了， 今年他爹不让他去了，换普通高中了， 因为过年亲戚来了喝了...      1        91  一般幽默   \n",
       "2  一天，我刚洗完澡回屋准备穿衣服，刚要穿，房东的女儿倩倩闯进来了，看到我没穿衣服，“啊！”的一...      1       124  一般幽默   \n",
       "3                             如果我记得你的名字，我会问你把钥匙放在哪里。      1        22  一般幽默   \n",
       "4  我爸爸和几个同事准备去美国，在超市买随身带的东西呢，这时，超市里一个美国人过来用标准的济南话...      1       125  一般幽默   \n",
       "\n",
       "                                              pinyin  \n",
       "0  ru2 guo3 ni3 you3 yi1 bai3 wan4 sha1 shi4 bi3 ...  \n",
       "1  ben3 cun1 you3 yi1 xiao3 huo3 ， zai4 wu3 xiao4...  \n",
       "2  yi1 tian1 ， wo3 gang1 xi3 wan2 zao3 hui2 wu1 z...  \n",
       "3  ru2 guo3 wo3 ji4 de2 ni3 de5 ming2 zi4 ， wo3 h...  \n",
       "4  wo3 ba4 ba4 he2 ji1 ge4 tong2 shi4 zhun3 bei4 ...  "
      ]
     },
     "execution_count": 40,
     "metadata": {},
     "output_type": "execute_result"
    }
   ],
   "source": [
    "data1 = pd.read_csv(\"../data/train_dataset.csv\")\n",
    "data1.head()"
   ]
  },
  {
   "cell_type": "code",
   "execution_count": 41,
   "metadata": {},
   "outputs": [
    {
     "data": {
      "text/html": [
       "<div>\n",
       "<style scoped>\n",
       "    .dataframe tbody tr th:only-of-type {\n",
       "        vertical-align: middle;\n",
       "    }\n",
       "\n",
       "    .dataframe tbody tr th {\n",
       "        vertical-align: top;\n",
       "    }\n",
       "\n",
       "    .dataframe thead th {\n",
       "        text-align: right;\n",
       "    }\n",
       "</style>\n",
       "<table border=\"1\" class=\"dataframe\">\n",
       "  <thead>\n",
       "    <tr style=\"text-align: right;\">\n",
       "      <th></th>\n",
       "      <th>joke</th>\n",
       "      <th>label</th>\n",
       "      <th>len_joke</th>\n",
       "      <th>标签</th>\n",
       "      <th>pinyin</th>\n",
       "    </tr>\n",
       "  </thead>\n",
       "  <tbody>\n",
       "    <tr>\n",
       "      <th>0</th>\n",
       "      <td>车上遇见一对双胞胎姑娘。穿的那个清凉啊，笑的那个甜啊……忍不住要去搭讪。 为不表现的轻浮和唐...</td>\n",
       "      <td>2</td>\n",
       "      <td>83</td>\n",
       "      <td>强幽默</td>\n",
       "      <td>che1 shang4 yu4 jian4 yi1 dui4 shuang1 bao1 ta...</td>\n",
       "    </tr>\n",
       "    <tr>\n",
       "      <th>1</th>\n",
       "      <td>图书馆自习室每个桌面上都摆满了占座的书，很是让其他人气愤。 某生不占座没有固定的座位，一日去...</td>\n",
       "      <td>0</td>\n",
       "      <td>192</td>\n",
       "      <td>弱幽默</td>\n",
       "      <td>tu2 shu1 guan3 zi4 xi2 shi4 mei3 ge4 zhuo1 mia...</td>\n",
       "    </tr>\n",
       "    <tr>\n",
       "      <th>2</th>\n",
       "      <td>一个报童在大街上高声叫卖：骇人听闻的诈骗案，受害者多达82人！ 某行人连忙上前买一份。可是，...</td>\n",
       "      <td>2</td>\n",
       "      <td>102</td>\n",
       "      <td>强幽默</td>\n",
       "      <td>yi1 ge4 bao4 tong2 zai4 da4 jie1 shang4 gao1 s...</td>\n",
       "    </tr>\n",
       "    <tr>\n",
       "      <th>3</th>\n",
       "      <td>法官对被告说：你不但偷钱，还拿了表，戒指和珍珠。 被告说：是的，法官先生，人们不是常说‘光有...</td>\n",
       "      <td>2</td>\n",
       "      <td>56</td>\n",
       "      <td>强幽默</td>\n",
       "      <td>fa3 guan1 dui4 bei4 gao4 shuo1 ： ni3 bu4 dan4 ...</td>\n",
       "    </tr>\n",
       "    <tr>\n",
       "      <th>4</th>\n",
       "      <td>大人，原告在法庭上说，这个人同我一起生活了几天，答应同我结婚，可是后来他同别的女人结了婚。他...</td>\n",
       "      <td>1</td>\n",
       "      <td>140</td>\n",
       "      <td>一般幽默</td>\n",
       "      <td>da4 ren2 ， yuan2 gao4 zai4 fa3 ting2 shang4 sh...</td>\n",
       "    </tr>\n",
       "  </tbody>\n",
       "</table>\n",
       "</div>"
      ],
      "text/plain": [
       "                                                joke  label  len_joke    标签  \\\n",
       "0  车上遇见一对双胞胎姑娘。穿的那个清凉啊，笑的那个甜啊……忍不住要去搭讪。 为不表现的轻浮和唐...      2        83   强幽默   \n",
       "1  图书馆自习室每个桌面上都摆满了占座的书，很是让其他人气愤。 某生不占座没有固定的座位，一日去...      0       192   弱幽默   \n",
       "2  一个报童在大街上高声叫卖：骇人听闻的诈骗案，受害者多达82人！ 某行人连忙上前买一份。可是，...      2       102   强幽默   \n",
       "3  法官对被告说：你不但偷钱，还拿了表，戒指和珍珠。 被告说：是的，法官先生，人们不是常说‘光有...      2        56   强幽默   \n",
       "4  大人，原告在法庭上说，这个人同我一起生活了几天，答应同我结婚，可是后来他同别的女人结了婚。他...      1       140  一般幽默   \n",
       "\n",
       "                                              pinyin  \n",
       "0  che1 shang4 yu4 jian4 yi1 dui4 shuang1 bao1 ta...  \n",
       "1  tu2 shu1 guan3 zi4 xi2 shi4 mei3 ge4 zhuo1 mia...  \n",
       "2  yi1 ge4 bao4 tong2 zai4 da4 jie1 shang4 gao1 s...  \n",
       "3  fa3 guan1 dui4 bei4 gao4 shuo1 ： ni3 bu4 dan4 ...  \n",
       "4  da4 ren2 ， yuan2 gao4 zai4 fa3 ting2 shang4 sh...  "
      ]
     },
     "execution_count": 41,
     "metadata": {},
     "output_type": "execute_result"
    }
   ],
   "source": [
    "data2 = pd.read_csv(\"../data/test_dataset.csv\")\n",
    "data2.head()"
   ]
  },
  {
   "cell_type": "markdown",
   "metadata": {},
   "source": [
    "## 使用向量嵌入模型"
   ]
  },
  {
   "cell_type": "code",
   "execution_count": 49,
   "metadata": {},
   "outputs": [],
   "source": [
    "# 初始化嵌入模型\n",
    "embeddings = OpenAIEmbeddings(\n",
    "    api_key=api_key, base_url=api_base, model=\"text-embedding-3-large\", dimensions=1024\n",
    ")"
   ]
  },
  {
   "cell_type": "code",
   "execution_count": 53,
   "metadata": {},
   "outputs": [],
   "source": [
    "embeddings_list1 = embeddings.embed_documents(data1[\"joke\"].to_list())"
   ]
  },
  {
   "cell_type": "code",
   "execution_count": 54,
   "metadata": {},
   "outputs": [],
   "source": [
    "data1[\"text_embedding\"] = embeddings_list1\n",
    "data1[[\"joke\", \"text_embedding\", \"label\"]].to_csv(\n",
    "    \"../data/train_dataset_embedding.csv\", index=False\n",
    ")"
   ]
  },
  {
   "cell_type": "code",
   "execution_count": 50,
   "metadata": {},
   "outputs": [],
   "source": [
    "embeddings_list2 = embeddings.embed_documents(data2[\"joke\"].to_list())"
   ]
  },
  {
   "cell_type": "code",
   "execution_count": 52,
   "metadata": {},
   "outputs": [],
   "source": [
    "data2[\"text_embedding\"] = embeddings_list2\n",
    "data2[[\"joke\", \"text_embedding\", \"label\"]].to_csv(\n",
    "    \"../data/test_dataset_embedding.csv\", index=False\n",
    ")"
   ]
  },
  {
   "cell_type": "code",
   "execution_count": 56,
   "metadata": {},
   "outputs": [
    {
     "name": "stdout",
     "output_type": "stream",
     "text": [
      "<class 'pandas.core.frame.DataFrame'>\n",
      "RangeIndex: 3130 entries, 0 to 3129\n",
      "Data columns (total 3 columns):\n",
      " #   Column          Non-Null Count  Dtype \n",
      "---  ------          --------------  ----- \n",
      " 0   joke            3130 non-null   object\n",
      " 1   text_embedding  3130 non-null   object\n",
      " 2   label           3130 non-null   int64 \n",
      "dtypes: int64(1), object(2)\n",
      "memory usage: 73.5+ KB\n"
     ]
    }
   ],
   "source": [
    "#重新读取时list类型已经变成str类型了\n",
    "data3 = pd.read_csv(\"../data/test_dataset_embedding.csv\")\n",
    "data3.info()"
   ]
  },
  {
   "cell_type": "code",
   "execution_count": 60,
   "metadata": {},
   "outputs": [],
   "source": [
    "# str重新变为list\n",
    "embeddings_list = data3[\"text_embedding\"].apply(lambda x: json.loads(x))"
   ]
  },
  {
   "cell_type": "markdown",
   "metadata": {},
   "source": [
    "# 2. 向量检索"
   ]
  },
  {
   "cell_type": "markdown",
   "metadata": {},
   "source": [
    "## 寻找topk向量"
   ]
  },
  {
   "cell_type": "code",
   "execution_count": 7,
   "metadata": {},
   "outputs": [],
   "source": [
    "data1 = pd.read_csv(\"../data/train_dataset_embedding.csv\")\n",
    "train_embeddings = data1[\"text_embedding\"].apply(lambda x: json.loads(x))\n",
    "data2 = pd.read_csv(\"../data/test_dataset_embedding.csv\")\n",
    "test_embeddings = data2[\"text_embedding\"].apply(lambda x: json.loads(x))"
   ]
  },
  {
   "cell_type": "code",
   "execution_count": 10,
   "metadata": {},
   "outputs": [],
   "source": [
    "def cosine_similarity_matrix(A, B):\n",
    "    # 计算矩阵A中每个向量与矩阵B中每个向量的余弦相似性\n",
    "    dot_products = np.dot(A, B.T)\n",
    "    norms_A = np.linalg.norm(A, axis=1)\n",
    "    norms_B = np.linalg.norm(B, axis=1)\n",
    "    similarities = dot_products / np.outer(norms_A, norms_B)\n",
    "    return similarities"
   ]
  },
  {
   "cell_type": "code",
   "execution_count": 15,
   "metadata": {},
   "outputs": [],
   "source": [
    "A = np.array(test_embeddings.to_list())\n",
    "B = np.array(train_embeddings.to_list())\n",
    "similarities = cosine_similarity_matrix(A, B)"
   ]
  },
  {
   "cell_type": "code",
   "execution_count": 12,
   "metadata": {},
   "outputs": [
    {
     "name": "stdout",
     "output_type": "stream",
     "text": [
      "(3130, 12521)\n"
     ]
    }
   ],
   "source": [
    "print(similarities.shape)"
   ]
  },
  {
   "cell_type": "code",
   "execution_count": 37,
   "metadata": {},
   "outputs": [],
   "source": [
    "topk_similarities = np.argsort(-similarities)"
   ]
  },
  {
   "cell_type": "code",
   "execution_count": 44,
   "metadata": {},
   "outputs": [
    {
     "name": "stdout",
     "output_type": "stream",
     "text": [
      "图书馆自习室每个桌面上都摆满了占座的书，很是让其他人气愤。 某生不占座没有固定的座位，一日去自习，练习时发现忘了带草稿本，恰巧桌面那堆书上有一个崭新的练习本，于是打算撕下一张用用。 刚想撕，看见书堆上有张贴纸，上书：“证明你的人品，一切东西请勿乱动！” 该生沉思了会儿，就在贴纸上回了一句话：“你的练习本，我不撕，证明我的人品好；我撕了，证明你的人品不好！事实证明你的人品真的不好！”\n",
      "快要期末考试了，有个学生想作弊，就提前来到考场，想在课桌上写点小抄，谁知那张课桌上已密密麻麻写满了歌词，这学生大怒，于是在桌上写道：“哥们儿，给我留点儿地方做小抄好吗？” 第二天，有人在课桌上回复：“哥们儿，不好意思，这是我创作并能发表作品的最后一块园地了……” 第三天，这张课桌上又添了一句话：“最烦你们这些人了，搞得我每次上完课睡觉起来，脸上不是考试答案就是歌词！”\n"
     ]
    }
   ],
   "source": [
    "print(data2[\"joke\"].iloc[1])\n",
    "print(data1[\"joke\"].iloc[topk_similarities[1][0]])"
   ]
  }
 ],
 "metadata": {
  "kernelspec": {
   "display_name": "pytorch",
   "language": "python",
   "name": "python3"
  },
  "language_info": {
   "codemirror_mode": {
    "name": "ipython",
    "version": 3
   },
   "file_extension": ".py",
   "mimetype": "text/x-python",
   "name": "python",
   "nbconvert_exporter": "python",
   "pygments_lexer": "ipython3",
   "version": "3.9.18"
  }
 },
 "nbformat": 4,
 "nbformat_minor": 2
}
